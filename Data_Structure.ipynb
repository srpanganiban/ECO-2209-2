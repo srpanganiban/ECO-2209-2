{
  "nbformat": 4,
  "nbformat_minor": 0,
  "metadata": {
    "colab": {
      "provenance": []
    },
    "kernelspec": {
      "name": "python3",
      "display_name": "Python 3"
    },
    "language_info": {
      "name": "python"
    }
  },
  "cells": [
    {
      "cell_type": "code",
      "execution_count": null,
      "metadata": {
        "id": "FHMRNA8vmhv8"
      },
      "outputs": [],
      "source": [
        "#Data Structure\n",
        "#List\n",
        "#Tuples\n",
        "#Dictionary"
      ]
    },
    {
      "cell_type": "code",
      "source": [
        "#List: The simplest data collection in Phython\n",
        "#Contains numbers or strings, or both\n",
        "#Basically use in Data Analysis\n",
        "#Elements are modifiable/editable, can add new elements in a list\n",
        "\n",
        "scores =[90, 92, 95, 96, 78] #list containing numbers (integers)\n",
        "students =['Shanne', 'Nica', 'Tine', 'Ian', 'Bea'] #List containing strings (words)\n",
        "mixed =[90, 'Shanne', 99, 'Nica'] #List containing numbers and strings\n",
        "#indexing starts from 0\n",
        "scores[0] #locating the element in the list"
      ],
      "metadata": {
        "colab": {
          "base_uri": "https://localhost:8080/"
        },
        "id": "fxHdKjnCmwTF",
        "outputId": "10848233-ace0-4e6e-9ced-64df657b9035"
      },
      "execution_count": 1,
      "outputs": [
        {
          "output_type": "execute_result",
          "data": {
            "text/plain": [
              "90"
            ]
          },
          "metadata": {},
          "execution_count": 1
        }
      ]
    },
    {
      "cell_type": "code",
      "source": [
        "scores[2]"
      ],
      "metadata": {
        "colab": {
          "base_uri": "https://localhost:8080/"
        },
        "id": "qzghLUMwoa7m",
        "outputId": "e8051fa3-f717-4ac2-834c-2906264f9113"
      },
      "execution_count": 2,
      "outputs": [
        {
          "output_type": "execute_result",
          "data": {
            "text/plain": [
              "95"
            ]
          },
          "metadata": {},
          "execution_count": 2
        }
      ]
    },
    {
      "cell_type": "code",
      "source": [
        "students = ['Shanne', 'Nica', 'Tine', 'Ian', 'Bea']\n",
        "students.append('Tanggol')\n",
        "\n",
        "students\n"
      ],
      "metadata": {
        "colab": {
          "base_uri": "https://localhost:8080/"
        },
        "id": "xA4iHy8UoeTr",
        "outputId": "8297d2b9-746f-445f-934e-cb8d776dff97"
      },
      "execution_count": 12,
      "outputs": [
        {
          "output_type": "execute_result",
          "data": {
            "text/plain": [
              "['Shanne', 'Nica', 'Tine', 'Ian', 'Bea', 'Tanggol']"
            ]
          },
          "metadata": {},
          "execution_count": 12
        }
      ]
    },
    {
      "cell_type": "code",
      "source": [
        "\n",
        "scores.append(77)\n",
        "scores"
      ],
      "metadata": {
        "colab": {
          "base_uri": "https://localhost:8080/"
        },
        "id": "xhtWQDfaqBkp",
        "outputId": "eabbb42c-6807-4ff7-b652-1e3843fe4d44"
      },
      "execution_count": 18,
      "outputs": [
        {
          "output_type": "execute_result",
          "data": {
            "text/plain": [
              "[90, 92, 95, 96, 78, 77, 77]"
            ]
          },
          "metadata": {},
          "execution_count": 18
        }
      ]
    },
    {
      "cell_type": "code",
      "source": [
        "for x in scores:\n",
        "  print(x)"
      ],
      "metadata": {
        "colab": {
          "base_uri": "https://localhost:8080/"
        },
        "id": "JPaSTljjqbYZ",
        "outputId": "750953a5-3a60-4a0d-b5df-4efbe0fe13c2"
      },
      "execution_count": 19,
      "outputs": [
        {
          "output_type": "stream",
          "name": "stdout",
          "text": [
            "90\n",
            "92\n",
            "95\n",
            "96\n",
            "78\n",
            "77\n",
            "77\n"
          ]
        }
      ]
    },
    {
      "cell_type": "code",
      "source": [
        "students.insert(1, 'Python')\n",
        "\n",
        "print(students)"
      ],
      "metadata": {
        "colab": {
          "base_uri": "https://localhost:8080/"
        },
        "id": "hSp_0PrEqzqA",
        "outputId": "bc543bd3-c353-4dff-85a9-2afc5be96bc2"
      },
      "execution_count": 21,
      "outputs": [
        {
          "output_type": "stream",
          "name": "stdout",
          "text": [
            "['Cardo', 'Python', 'Shanne', 'Nica', 'Tine', 'Ian', 'Bea', 'Tanggol']\n"
          ]
        }
      ]
    },
    {
      "cell_type": "code",
      "source": [
        "students.remove('Python')\n",
        "students"
      ],
      "metadata": {
        "colab": {
          "base_uri": "https://localhost:8080/"
        },
        "id": "zot6C4QhrK4d",
        "outputId": "e296f4ca-ef35-43b3-9d3c-b29ef53c004e"
      },
      "execution_count": 22,
      "outputs": [
        {
          "output_type": "execute_result",
          "data": {
            "text/plain": [
              "['Cardo', 'Shanne', 'Nica', 'Tine', 'Ian', 'Bea', 'Tanggol']"
            ]
          },
          "metadata": {},
          "execution_count": 22
        }
      ]
    },
    {
      "cell_type": "code",
      "source": [
        "students.insert(1,'Python')\n",
        "print(students)"
      ],
      "metadata": {
        "colab": {
          "base_uri": "https://localhost:8080/"
        },
        "id": "ffYXk0Mlrr39",
        "outputId": "c9445256-10b3-4f19-d1e9-6227580c357c"
      },
      "execution_count": 23,
      "outputs": [
        {
          "output_type": "stream",
          "name": "stdout",
          "text": [
            "['Cardo', 'Python', 'Shanne', 'Nica', 'Tine', 'Ian', 'Bea', 'Tanggol']\n"
          ]
        }
      ]
    },
    {
      "cell_type": "code",
      "source": [
        "list1 = [3, 4, 5]\n",
        "list2 = [1, 2, 3]\n",
        "\n",
        "list2.extend(list1)\n",
        "print(list2)\n",
        "\n"
      ],
      "metadata": {
        "colab": {
          "base_uri": "https://localhost:8080/"
        },
        "id": "KjmGerF0sgMY",
        "outputId": "d5f988d6-9c54-4020-e692-a434489051e9"
      },
      "execution_count": 28,
      "outputs": [
        {
          "output_type": "stream",
          "name": "stdout",
          "text": [
            "[1, 2, 3, 3, 4, 5]\n"
          ]
        }
      ]
    },
    {
      "cell_type": "code",
      "source": [
        "name1 = ['Shanne', 'Rabusa', 'Panganiban']\n",
        "name2 = ['Tanggol', 'Cardo', 'Rigor']\n",
        "\n",
        "name1.extend(name2)\n",
        "print(name1)"
      ],
      "metadata": {
        "colab": {
          "base_uri": "https://localhost:8080/"
        },
        "id": "SoKMrsQUtU6f",
        "outputId": "3c1253a7-9409-478d-c68e-3eba8aad0e92"
      },
      "execution_count": 31,
      "outputs": [
        {
          "output_type": "stream",
          "name": "stdout",
          "text": [
            "['Shanne', 'Rabusa', 'Panganiban', 'Tanggol', 'Cardo', 'Rigor']\n"
          ]
        }
      ]
    },
    {
      "cell_type": "code",
      "source": [
        "name1.sort()\n",
        "print(name1)"
      ],
      "metadata": {
        "colab": {
          "base_uri": "https://localhost:8080/"
        },
        "id": "exxgz9C5uF_2",
        "outputId": "5a46f380-78b6-4256-b781-1ffd9a80dadf"
      },
      "execution_count": 32,
      "outputs": [
        {
          "output_type": "stream",
          "name": "stdout",
          "text": [
            "['Cardo', 'Panganiban', 'Rabusa', 'Rigor', 'Shanne', 'Tanggol']\n"
          ]
        }
      ]
    },
    {
      "cell_type": "code",
      "source": [
        "scores.sort()\n",
        "print(scores)"
      ],
      "metadata": {
        "colab": {
          "base_uri": "https://localhost:8080/"
        },
        "id": "48MBAP8puQpO",
        "outputId": "6b81f1d4-9e68-4eb2-eeaf-fcb79b7c1296"
      },
      "execution_count": 33,
      "outputs": [
        {
          "output_type": "stream",
          "name": "stdout",
          "text": [
            "[77, 77, 78, 90, 92, 95, 96]\n"
          ]
        }
      ]
    },
    {
      "cell_type": "code",
      "source": [
        "scores.reverse()\n",
        "print(scores)"
      ],
      "metadata": {
        "colab": {
          "base_uri": "https://localhost:8080/"
        },
        "id": "hL3HcszhuV6B",
        "outputId": "0a3a4c96-4bbc-412c-cafc-a79aab22e628"
      },
      "execution_count": 34,
      "outputs": [
        {
          "output_type": "stream",
          "name": "stdout",
          "text": [
            "[96, 95, 92, 90, 78, 77, 77]\n"
          ]
        }
      ]
    },
    {
      "cell_type": "code",
      "source": [
        "del scores[2]\n",
        "print(scores)"
      ],
      "metadata": {
        "colab": {
          "base_uri": "https://localhost:8080/"
        },
        "id": "FE79uMCtuaxD",
        "outputId": "55a84f56-fbba-4005-f9af-2e0b2cda992c"
      },
      "execution_count": 35,
      "outputs": [
        {
          "output_type": "stream",
          "name": "stdout",
          "text": [
            "[96, 95, 90, 78, 77, 77]\n"
          ]
        }
      ]
    },
    {
      "cell_type": "code",
      "source": [
        "scores.insert(2, 93)\n",
        "print(scores)"
      ],
      "metadata": {
        "colab": {
          "base_uri": "https://localhost:8080/"
        },
        "id": "zNTcRuI_ufcq",
        "outputId": "032458a2-a5ab-4153-dace-d1562e6a5e2b"
      },
      "execution_count": 36,
      "outputs": [
        {
          "output_type": "stream",
          "name": "stdout",
          "text": [
            "[96, 95, 93, 90, 78, 77, 77]\n"
          ]
        }
      ]
    },
    {
      "cell_type": "code",
      "source": [
        "#Tuples: Not editable; immutable ()\n",
        "\n",
        "prices =(90, 90, 88, 78, 80)\n",
        "prices"
      ],
      "metadata": {
        "colab": {
          "base_uri": "https://localhost:8080/"
        },
        "id": "9lGpY1AmuuWr",
        "outputId": "db5f6804-a5d7-463c-aa22-67b8d07f4c62"
      },
      "execution_count": 37,
      "outputs": [
        {
          "output_type": "execute_result",
          "data": {
            "text/plain": [
              "(90, 90, 88, 78, 80)"
            ]
          },
          "metadata": {},
          "execution_count": 37
        }
      ]
    },
    {
      "cell_type": "code",
      "source": [
        "for x in prices:\n",
        "  print(x)"
      ],
      "metadata": {
        "colab": {
          "base_uri": "https://localhost:8080/"
        },
        "id": "27-lotClvIdg",
        "outputId": "2ae15d45-ead8-4ad3-c859-e07c005f451e"
      },
      "execution_count": 39,
      "outputs": [
        {
          "output_type": "stream",
          "name": "stdout",
          "text": [
            "90\n",
            "90\n",
            "88\n",
            "78\n",
            "80\n"
          ]
        }
      ]
    },
    {
      "cell_type": "code",
      "source": [
        "#Dictionary: 2 element ()\n",
        "\n",
        "student_no = {1: 'Shanne', 2: 'Ran', 3: 'Yuki', 4: 'Yuji'}\n",
        "student_no"
      ],
      "metadata": {
        "colab": {
          "base_uri": "https://localhost:8080/"
        },
        "id": "tgHxmTTqwMUi",
        "outputId": "90e591f3-daab-4b4e-de7c-674815c80dc7"
      },
      "execution_count": 40,
      "outputs": [
        {
          "output_type": "execute_result",
          "data": {
            "text/plain": [
              "{1: 'Shanne', 2: 'Ran', 3: 'Yuki', 4: 'Yuji'}"
            ]
          },
          "metadata": {},
          "execution_count": 40
        }
      ]
    },
    {
      "cell_type": "code",
      "source": [
        "for x in student_no:\n",
        "  print(x)"
      ],
      "metadata": {
        "colab": {
          "base_uri": "https://localhost:8080/"
        },
        "id": "iRtQCGh5wiRK",
        "outputId": "cb159be0-f75e-4cb9-e4bd-f9f4dc6a34fa"
      },
      "execution_count": 41,
      "outputs": [
        {
          "output_type": "stream",
          "name": "stdout",
          "text": [
            "1\n",
            "2\n",
            "3\n",
            "4\n"
          ]
        }
      ]
    },
    {
      "cell_type": "code",
      "source": [],
      "metadata": {
        "id": "8UfTCtG8womN"
      },
      "execution_count": null,
      "outputs": []
    }
  ]
}