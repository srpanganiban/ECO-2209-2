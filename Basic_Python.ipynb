{
  "nbformat": 4,
  "nbformat_minor": 0,
  "metadata": {
    "colab": {
      "provenance": []
    },
    "kernelspec": {
      "name": "python3",
      "display_name": "Python 3"
    },
    "language_info": {
      "name": "python"
    }
  },
  "cells": [
    {
      "cell_type": "code",
      "execution_count": 2,
      "metadata": {
        "colab": {
          "base_uri": "https://localhost:8080/"
        },
        "id": "ZyLl_VgWrqb6",
        "outputId": "72c1ab3a-71a3-457c-cb17-b2530a214b6a"
      },
      "outputs": [
        {
          "output_type": "stream",
          "name": "stdout",
          "text": [
            "Hello World!\n"
          ]
        }
      ],
      "source": [
        "print('Hello World!') #My very first Python code"
      ]
    },
    {
      "cell_type": "code",
      "source": [
        "#Python Data Types\n",
        "#1. Numbers\n",
        "#2. Strings\n",
        "#Integers and Float"
      ],
      "metadata": {
        "id": "p7pH8qLUsJnk"
      },
      "execution_count": null,
      "outputs": []
    },
    {
      "cell_type": "code",
      "source": [
        "#Integer (int)\n",
        "x = 1\n",
        "y = 2\n",
        "print(x + y)"
      ],
      "metadata": {
        "colab": {
          "base_uri": "https://localhost:8080/"
        },
        "id": "tkzC395_swHa",
        "outputId": "c097cc7c-7f1b-400f-f740-483a5c906f80"
      },
      "execution_count": 3,
      "outputs": [
        {
          "output_type": "stream",
          "name": "stdout",
          "text": [
            "3\n"
          ]
        }
      ]
    },
    {
      "cell_type": "code",
      "source": [
        "#Float\n",
        "x = 1.5\n",
        "y = 2.0\n",
        "print(x + y)"
      ],
      "metadata": {
        "colab": {
          "base_uri": "https://localhost:8080/"
        },
        "id": "AGufHEG3tGV8",
        "outputId": "a42c0932-1043-4b0c-f6e8-898c363bcf53"
      },
      "execution_count": 4,
      "outputs": [
        {
          "output_type": "stream",
          "name": "stdout",
          "text": [
            "3.5\n"
          ]
        }
      ]
    },
    {
      "cell_type": "code",
      "source": [
        "#Strings\n",
        "x = 'Hello'\n",
        "y = 'World'\n",
        "print(x + y)"
      ],
      "metadata": {
        "colab": {
          "base_uri": "https://localhost:8080/"
        },
        "id": "wvk6o2L7tdSv",
        "outputId": "86c2fa6a-60dc-4f0c-84e3-e630ee25b30b"
      },
      "execution_count": 5,
      "outputs": [
        {
          "output_type": "stream",
          "name": "stdout",
          "text": [
            "HelloWorld\n"
          ]
        }
      ]
    },
    {
      "cell_type": "code",
      "source": [
        "print('My Name is Shanne') #Single Quotation Mark"
      ],
      "metadata": {
        "colab": {
          "base_uri": "https://localhost:8080/"
        },
        "id": "rU7i_hfLtu3i",
        "outputId": "7da2699d-73b4-4095-aa66-1b701a66f5da"
      },
      "execution_count": 6,
      "outputs": [
        {
          "output_type": "stream",
          "name": "stdout",
          "text": [
            "My Name is Shanne\n"
          ]
        }
      ]
    },
    {
      "cell_type": "code",
      "source": [
        "print(\"My Name is Shanne\") #Double Quotation Mark"
      ],
      "metadata": {
        "colab": {
          "base_uri": "https://localhost:8080/"
        },
        "id": "OE38xJhTt3-b",
        "outputId": "50f05718-5ab1-42ec-cdfb-68930f36e54d"
      },
      "execution_count": 7,
      "outputs": [
        {
          "output_type": "stream",
          "name": "stdout",
          "text": [
            "My Name is Shanne\n"
          ]
        }
      ]
    },
    {
      "cell_type": "code",
      "source": [
        "x = '123456'\n",
        "y = 123456\n",
        "z = 7890.00\n",
        "print('This is a string',x)\n",
        "print(\"This is an Integer\",y)\n",
        "print('This ia a float',z)"
      ],
      "metadata": {
        "colab": {
          "base_uri": "https://localhost:8080/"
        },
        "id": "nw0me8Ymt3_F",
        "outputId": "332ed2d5-9443-408c-86ea-96d68d8c6c5c"
      },
      "execution_count": 10,
      "outputs": [
        {
          "output_type": "stream",
          "name": "stdout",
          "text": [
            "This is a string 123456\n",
            "This is an Integer 123456\n",
            "This ia a float 7890.0\n"
          ]
        }
      ]
    },
    {
      "cell_type": "code",
      "source": [
        "#\\N (for spacing)\n",
        "print('Shanne \\nRabusa \\nPanganiban')"
      ],
      "metadata": {
        "colab": {
          "base_uri": "https://localhost:8080/"
        },
        "id": "KZLNjx1WvJ1O",
        "outputId": "83c65495-23a3-4342-dcb9-eb637c21a16e"
      },
      "execution_count": 11,
      "outputs": [
        {
          "output_type": "stream",
          "name": "stdout",
          "text": [
            "Shanne \n",
            "Rabusa \n",
            "Panganiban\n"
          ]
        }
      ]
    },
    {
      "cell_type": "code",
      "source": [
        "#Mathematical Operators\n",
        "#Addition (+)\n",
        "#Subtraction (-)\n",
        "#Multiplication (*)\n",
        "#Division (/)\n",
        "#Exponential (**)\n",
        "#Floor Division (//)\n",
        "\n",
        "a = 2\n",
        "b = 3\n",
        "print(a + b) #Addition\n",
        "print(a - b) #Subtraction\n",
        "print(a * b) #Multiplication\n",
        "print(a / b) #Division\n",
        "\n",
        "\n",
        "x = 9\n",
        "y = 4\n",
        "print(9 % 4) #Modulo Operator\n",
        "\n",
        "print(x ** 2) #Exponential\n",
        "print(2 ** 3)\n"
      ],
      "metadata": {
        "colab": {
          "base_uri": "https://localhost:8080/"
        },
        "id": "U9IQwg99viw6",
        "outputId": "7791eeb5-f275-4537-a0ef-5a353470d4b8"
      },
      "execution_count": 15,
      "outputs": [
        {
          "output_type": "stream",
          "name": "stdout",
          "text": [
            "5\n",
            "-1\n",
            "6\n",
            "0.6666666666666666\n",
            "1\n",
            "81\n",
            "8\n"
          ]
        }
      ]
    },
    {
      "cell_type": "code",
      "source": [
        "print(9 / 5) #Division\n",
        "print(9 // 5) #Floor Division"
      ],
      "metadata": {
        "colab": {
          "base_uri": "https://localhost:8080/"
        },
        "id": "IQ9nex3Ovix5",
        "outputId": "aa8343a6-a36c-4c1f-ea35-8e3df018e203"
      },
      "execution_count": 16,
      "outputs": [
        {
          "output_type": "stream",
          "name": "stdout",
          "text": [
            "1.8\n",
            "1\n"
          ]
        }
      ]
    },
    {
      "cell_type": "code",
      "source": [
        "#Comparison Operations\n",
        "#Less than (<)\n",
        "#Greater than (>)\n",
        "#Equal to (==)\n",
        "#Not Equal to (!=)\n",
        "#Greater than or equal to (>=)\n",
        "#Less than or equal to (<=)\n",
        "#Output results to Boolean values (True or False)\n",
        "\n",
        "x = 10\n",
        "y = 5\n",
        "print(x < y)\n",
        "print(x > y)\n",
        "print(x == y)\n",
        "print(x != y)\n",
        "print(x >= y)\n",
        "print(x <= y)\n"
      ],
      "metadata": {
        "colab": {
          "base_uri": "https://localhost:8080/"
        },
        "id": "7OiGih_pxxj4",
        "outputId": "aec6fcfd-86eb-4e5a-f325-552ad88b5703"
      },
      "execution_count": 18,
      "outputs": [
        {
          "output_type": "stream",
          "name": "stdout",
          "text": [
            "False\n",
            "True\n",
            "False\n",
            "True\n",
            "True\n",
            "False\n"
          ]
        }
      ]
    },
    {
      "cell_type": "code",
      "source": [
        "#Boolean Operators\n",
        "#or\n",
        "#and\n",
        "#not\n",
        "\n",
        "print(x or y)\n",
        "print(x and y)\n",
        "print(x, not y)\n"
      ],
      "metadata": {
        "colab": {
          "base_uri": "https://localhost:8080/"
        },
        "id": "w9rAV_20zEnD",
        "outputId": "01b71959-256c-4149-c1c9-39e11eb10515"
      },
      "execution_count": 22,
      "outputs": [
        {
          "output_type": "stream",
          "name": "stdout",
          "text": [
            "10\n",
            "5\n",
            "10 False\n"
          ]
        }
      ]
    },
    {
      "cell_type": "code",
      "source": [
        "#Looping\n",
        "\n",
        "x = 5\n",
        "\n",
        "if x == 10:\n",
        "  print('Equal to')\n",
        "else:\n",
        "    print('Less than')"
      ],
      "metadata": {
        "colab": {
          "base_uri": "https://localhost:8080/"
        },
        "id": "_rgZERm2zxwJ",
        "outputId": "c767a5e8-f755-4755-d98a-742c937bbaf0"
      },
      "execution_count": 26,
      "outputs": [
        {
          "output_type": "stream",
          "name": "stdout",
          "text": [
            "Less than \n"
          ]
        }
      ]
    },
    {
      "cell_type": "code",
      "source": [
        "#Assignment of Variables\n",
        "\n",
        "#Strings\n",
        "name = 'Shanne'\n",
        "surname = 'Panganiban'\n",
        "print(name + surname)\n",
        "\n",
        "#Numbers\n",
        "hours = 8\n",
        "score = 90\n",
        "\n",
        "print(hours)\n",
        "print(score)\n",
        "\n",
        "#Naming Variable (always use small cap)\n",
        "\n",
        "name = 'Shanne'\n",
        "unitPrice = 100\n",
        "unit_price = 200"
      ],
      "metadata": {
        "colab": {
          "base_uri": "https://localhost:8080/"
        },
        "id": "ZCxio1aO0Qju",
        "outputId": "a27c0075-ba32-48bf-e946-76168470887b"
      },
      "execution_count": 30,
      "outputs": [
        {
          "output_type": "stream",
          "name": "stdout",
          "text": [
            "ShannePanganiban\n",
            "8\n",
            "90\n"
          ]
        }
      ]
    },
    {
      "cell_type": "code",
      "source": [
        "f_name = 'Shanne'\n",
        "l_name = 'Panganiban'\n",
        "age = 20\n",
        "\n",
        "print(f\"My name is {f_name} {l_name} and I am {age} years old\")"
      ],
      "metadata": {
        "colab": {
          "base_uri": "https://localhost:8080/"
        },
        "id": "w73UoJqo1u9D",
        "outputId": "0ef2f2e0-4ddf-4e70-a635-00db4464f285"
      },
      "execution_count": 31,
      "outputs": [
        {
          "output_type": "stream",
          "name": "stdout",
          "text": [
            "My name is Shanne Panganiban and I am 20 years old\n"
          ]
        }
      ]
    },
    {
      "cell_type": "code",
      "source": [
        "#Built-in Function\n",
        "#type() to know the data type\n",
        "#Rounding off round()\n",
        "\n",
        "x = 9 #Integer\n",
        "y = 8.7888889999 #Float\n",
        "z = 'Shanne' #String\n",
        "\n",
        "round(y, 0)"
      ],
      "metadata": {
        "colab": {
          "base_uri": "https://localhost:8080/"
        },
        "id": "g9DGmzjB2TFd",
        "outputId": "cc5440ab-af2d-45a2-9612-b840c8fb0f66"
      },
      "execution_count": 40,
      "outputs": [
        {
          "output_type": "execute_result",
          "data": {
            "text/plain": [
              "9.0"
            ]
          },
          "metadata": {},
          "execution_count": 40
        }
      ]
    },
    {
      "cell_type": "code",
      "source": [],
      "metadata": {
        "id": "56F6eoiE2TG2"
      },
      "execution_count": null,
      "outputs": []
    }
  ]
}